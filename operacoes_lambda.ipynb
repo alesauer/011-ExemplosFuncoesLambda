{
 "cells": [
  {
   "cell_type": "markdown",
   "metadata": {},
   "source": [
    "# Operações Matemáticas com Funções Lambda em Python\n",
    "\n",
    "Este notebook executa operações matemáticas básicas utilizando **funções lambda** em Python. Vamos testar as operações de soma, subtração, multiplicação, divisão e módulo, usando os valores `a = 10` e `b = 5`."
   ]
  },
  {
   "cell_type": "code",
   "execution_count": null,
   "metadata": {},
   "outputs": [],
   "source": [
    "# Definição das operações usando lambdas\n",
    "soma = lambda a, b: a + b\n",
    "subtracao = lambda a, b: a - b\n",
    "multiplicacao = lambda a, b: a * b\n",
    "divisao = lambda a, b: a / b if b != 0 else 'Divisão por zero não permitida'\n",
    "modulo = lambda a, b: a % b"
   ]
  },
  {
   "cell_type": "markdown",
   "metadata": {},
   "source": [
    "### Testando as funções\n",
    "\n",
    "Agora vamos testar as funções com os valores `a = 10` e `b = 5`."
   ]
  },
  {
   "cell_type": "code",
   "execution_count": null,
   "metadata": {},
   "outputs": [],
   "source": [
    "# Testando as funções\n",
    "a, b = 10, 5\n",
    "print(f\"Soma: {soma(a, b)}\")            \n",
    "print(f\"Subtração: {subtracao(a, b)}\") \n",
    "print(f\"Multiplicação: {multiplicacao(a, b)}\")\n",
    "print(f\"Divisão: {divisao(a, b)}\")\n",
    "print(f\"Módulo: {modulo(a, b)}\")"
   ]
  },
  {
   "cell_type": "markdown",
   "metadata": {},
   "source": [
    "A saída será:"
   ]
  },
  {
   "cell_type": "markdown",
   "metadata": {},
   "source": [
    "```\n",
    "Soma: 15\n",
    "Subtração: 5\n",
    "Multiplicação: 50\n",
    "Divisão: 2.0\n",
    "Módulo: 0\n",
    "```"
   ]
  },
  {
   "cell_type": "markdown",
   "metadata": {},
   "source": [
    "Caso `b = 0`, a operação de divisão retornaria uma mensagem de erro para evitar a divisão por zero."
   ]
  },
  {
   "cell_type": "code",
   "execution_count": null,
   "metadata": {},
   "outputs": [],
   "source": [
    "# Testando divisão por zero\n",
    "a, b = 10, 0\n",
    "print(f\"Divisão com b = 0: {divisao(a, b)}\")"
   ]
  }
 ],
 "metadata": {
  "kernelspec": {
   "display_name": "Python 3",
   "language": "python",
   "name": "python3"
  },
  "language_info": {
   "codemirror_mode": {
    "name": "ipython",
    "version": 3
   },
   "file_extension": ".py",
   "mimetype": "text/x-python",
   "name": "python",
   "nbconvert_exporter": "python",
   "version": "3.8.5"
  }
 },
 "nbformat": 4,
 "nbformat_minor": 4
}
